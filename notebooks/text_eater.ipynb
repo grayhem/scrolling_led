{
 "cells": [
  {
   "cell_type": "code",
   "execution_count": 1,
   "metadata": {},
   "outputs": [],
   "source": [
    "%load_ext autoreload\n",
    "%autoreload 2"
   ]
  },
  {
   "cell_type": "code",
   "execution_count": 9,
   "metadata": {},
   "outputs": [],
   "source": [
    "from pathlib import Path\n",
    "\n",
    "import numpy as np"
   ]
  },
  {
   "cell_type": "code",
   "execution_count": null,
   "metadata": {},
   "outputs": [],
   "source": [
    "# how to deal with text?\n",
    "# put it in big files and read off a line at a time. then fire the lines at the arduino or something i guess.\n",
    "# or chain them together and fire characters at it.\n"
   ]
  },
  {
   "cell_type": "code",
   "execution_count": 3,
   "metadata": {},
   "outputs": [],
   "source": [
    "base_directory = Path('/home/graham/python/led_sign/text/')"
   ]
  },
  {
   "cell_type": "code",
   "execution_count": 5,
   "metadata": {},
   "outputs": [
    {
     "name": "stdout",
     "output_type": "stream",
     "text": [
      "The Porsche 944 uses a hydraulic clutch engagement system - there are no cables involved with the actuation of the clutch. When you press on the clutch, pressurized brake fluid moves from the master cylinder through either a metal or rubber line to the slave cylinder mounted on the transmission. This results in a system that takes less physical effort to move.\n",
      "\n",
      "\n",
      "\n",
      "Although this actually creates a more reliable clutch system, over time, there can be a failure or break-down of the system if the slave or master cylinder gets old and begins to leak or fail. A spongy feel to the clutch pedal, grinding of gears when shifting, long pedal travel, and hydraulic leaks under the car are all signs that one or more components of the system have failed.\n",
      "\n",
      "\n",
      "\n",
      "Replacement of both cylinders is a bit tricky due to their locations. Let's begin with the clutch master cylinder. This is located on the driver's side of the car, just to the right of the brake master cylinder/brake booster. In order to remove it, you'll first need to remove the spring clip that secures the pushrod from the cylinder to the clutch pedal arm. Open the driver's side door and wiggle yourself in up under the dash near the pedals. You'll see the pushrod from the cylinder going towards the clutch pedal arm. Reach up and feel the end of the pushrod. There is a tension clip that holds it on. You'll need to use a small screwdriver to gently pry the lip up then push the clip off. Unfortunately, it's one of those things that you won't be able to see very well due to the location of the clutch safety switch bracket, but rest assured, the clip is there (See Figures 1 and 2). Just take your time as it can get a bit frustrating doing this all by feel.\n",
      "\n",
      "\n",
      "\n",
      "In order to remove the clutch master cylinder, you will have to remove some vacuum components and lines to allow access. Loosen the hose clamps and carefully pull the diaphragm and vacuum lines off as shown in Figure 3. Also remove the small vacuum line going to the diaphragm. Also remove the two Philips screws holding the black plastic cover onto the firewall just behind the vacuum diaphragm. With the black plastic cover removed, separate the wiring harness connector. (See Figure 4). This will allow some slack in the wiring harness and help with access below. It also can help if you use a small screwdriver to pry the wiring tie off the firewall (See Figures 5 and 6).\n",
      "\n",
      "\n",
      "\n",
      "Now follow the clutch hose back along the top edge of the firewall and remove the 8mm nut holding the upper metal clutch hose to the firewall. This will give some slack in the line and help to pull the cylinder out (See Figure 7). Under all of these connections lies the clutch master cylinder. Carefully move the vacuum lines, feed lines and electrical connections aside and locate the two 13mm nuts holding the cylinder to the firewall. These will be difficult to get to due to the clearance under the hood, although you should be able to reach them using a 13mm socket with a universal joint and extension (See Figures 8 and 9). Once the nuts are removed, carefully maneuver the cylinder up and out of the firewall enough to loosen and remove the 12mm fitting for the clutch hose out of the end of the cylinder. Then use a pair of vise grips to clamp off the feed hose and cut the clamp holding the feed hose to the master cylinder (See Figure 10).\n",
      "\n",
      "\n",
      "\n",
      "Once out, lay the new master cylinder next to the old one. You will need to transfer the metal block with the hole from the old push rod onto the new one. This is the part that mounts to the clutch pedal arm. Make a note of the number of threads on the old pushrod and set up the block on the new push rod with the same number of threads exposed (See Figure 11).\n",
      "\n",
      "\n",
      "\n",
      "Now position the new clutch cylinder in place, feeding the pushrod through the hole into the passenger compartment. Keep the cylinder right ahead of the mounting studs and thread in the 12mm fitting for the clutch pressure hose. Take caution to make sure you have it threaded in correctly as they can easily cross-thread and strip. Also use a new hose clamp to secure the clutch feed line to the new clutch master cylinder. This replaces the crimp style clamp originally on there (See Figures 12 and 13).\n",
      "\n",
      "\n",
      "\n",
      "Now slide the cylinder back against the firewall and connect the pushrod back up to the clutch pedal arm from inside the passenger compartment. Now move back to the engine compartment. You'll see that there is no way to thread the two 13mm nuts on by hand. What I like to do in situations like this is to place a dab of grease on the inside of the socket, then place the nut in. This will prevent the nut from falling out of the socket when you try to get it back on the threads. Position the nuts onto the threads and tighten them down. Wipe off any excess grease that may be on the nuts (See Figures 14 and 15). Reconnect the hoses and place the vacuum diaphragm back in place.\n",
      "\n",
      "\n",
      "\n",
      "Now on to the slave cylinder. As a rule, you almost always want to change the master and slave cylinder at the same time. It's difficult to determine if either the master or slave goes bad when the system fails, and you might end up having to do the job twice. It's also a good idea to change the rubber fluid hose at the same time you change out the master and slave cylinders. In our case, the original fluid hose had cracked and was leaking where the rubber portion met the metal fitting (See Figure 16 and 17).\n",
      "\n",
      "\n",
      "\n",
      "Jack up the car so you can access the starter. Make sure you use quality jack stands to secure the car up in the air and disconnect the battery. This is important, as you will be removing the cables going to the starter which are live. Due to the layout of the 944, there are a few differences from other cars. For example, the engine is located in the front of the car and the transmission is located in the rear. This provides a good weight balance between the front and rear of the car, resulting in an almost perfect weight distribution. Due to this arrangement, the starter motor is located on the clutch housing plate almost at the bottom of the car as opposed to being mounted on the transmission. You'll need to remove the starter in order to access the slave cylinder which is directly above.\n",
      "\n",
      "\n",
      "\n",
      "Remove the 8mm and 13mm nuts on the electrical connections to the starter and set them out of the way. Now remove the two 19mm bolts holding the starter to the clutch housing. One bolt will be easily removed with a socket, however the other will require a open end wrench to remove due to the space around the nut being tight. (See Figure 18).\n",
      "\n",
      "\n",
      "\n",
      "With the starter removed, you will be able to access the clutch slave cylinder. Remove the lower clutch hose connection from the top of the cylinder using a 12mm flare nut wrench, then remove the two 13mm bolts holding the slave cylinder to the clutch housing. Make sure you have a drain pan handy to collect the fluid that will drain out of the clutch hose (See Figure 19). Now move up to the engine compartment and disconnect the old fluid hose. You'll want to hold the clutch hose stationary with a 19mm wrench while you loosen and remove the 12mm threaded fitting from the top (See Figures 20 and 21). Lower the new fluid hose down from the top of the engine and connect it to the metal fitting.\n",
      "\n",
      "\n",
      "\n",
      "Now get back under the car and make sure that the piston rod of the new slave cylinder seats correctly in the small cup on the end of the throwout arm in the clutch housing. As you fit the slave cylinder, you'll need to compress the piston to get the screws to thread into the clutch housing. Just take your time and make sure that the piston rod is seated. (See Figure 22).\n",
      "\n",
      "\n",
      "\n",
      "The system now needs to be bled. I like to use the Motive Products Power Bleeder (available from PelicanParts.com) for this task. Attach the power bleeder to the top of the master cylinder reservoir and pump up the pressure in the bleeder. NOTE: DO NOT exceed 1 bar (14psi) doing so can damage the seals in the clutch hydraulic system.. With the pressure bleeder set up, attach a hose to the bleeder valve. Open the bleeder screw and let the system bleed until there are no more air bubbles coming out while a helper pumps the clutch pedal. It's also important to keep an eye on the reservoir level. If the level drops below the clutch feed line, you'll have to start bleeding all over again (See Figure 23). All that's left at this point is to re-attach the starter and battery and set the car down and you're good to go.\n",
      "\n"
     ]
    }
   ],
   "source": [
    "name = base_directory / \"944_clutch_cylinder.txt\"\n",
    "with name.open('r') as the_file:\n",
    "    for line in the_file.readlines():\n",
    "        print(line)"
   ]
  },
  {
   "cell_type": "code",
   "execution_count": 10,
   "metadata": {
    "scrolled": true
   },
   "outputs": [
    {
     "name": "stdout",
     "output_type": "stream",
     "text": [
      "Hide your ignorance! Never let them know ;^)\n",
      " 45\n",
      "holy fuck, i’m just speechless…\n",
      " 32\n",
      "Sic transit Gloria mundi\n",
      " 25\n",
      "w a t c h   m e   w a g g l e   m y   b a b y   a r m s   ~~\\ :^) /~~  ~~\\ (^: /~~  ~~\\ :^) /~~\n",
      " 96\n",
      "gee whiz, what a masterpiece…\n",
      " 30\n",
      "Tempus fugit\n",
      " 13\n",
      "Per aspera, ad astra\n",
      " 21\n",
      "Vulnerant omnes, Ultima necat\n",
      " 30\n",
      "trapped in led scrolling text sign word writing factory, send he;p\n",
      " 67\n",
      "Ultima forsan\n",
      " 14\n",
      "Just look at this cool fuckin sign…\n",
      " 36\n",
      "Memento Mori\n",
      " 13\n",
      "Nunc est bibendum\n",
      " 18\n",
      "queer up!\n",
      " 10\n",
      "Dum vivamus vivamus\n",
      " 20\n",
      "Aspire to live in the approximate now… it's ok to think about things that are a little bit in the past or a little bit in the future :)\n",
      " 136\n",
      "man this thing is the cat's meow…\n",
      " 34\n",
      "it’s really a goddamn hoot…\n",
      " 28\n"
     ]
    }
   ],
   "source": [
    "# how do we yield lines in random order?\n",
    "name = base_directory / \"aphorisms.txt\"\n",
    "with name.open('r') as thefile:\n",
    "    lines = [l for l in thefile.readlines() if len(l) > 1]\n",
    "\n",
    "np.random.shuffle(lines)\n",
    "for l in lines:\n",
    "    print(l, len(l))"
   ]
  },
  {
   "cell_type": "code",
   "execution_count": 113,
   "metadata": {},
   "outputs": [],
   "source": [
    "def strip_newlines(line):\n",
    "    \"\"\"\n",
    "    return the string with any newlines removed and replaced with a space\n",
    "    \"\"\"\n",
    "    parts = line.split(\"\\n\")\n",
    "    line = \"    \".join(parts)\n",
    "    return line\n",
    "\n",
    "def random_line_reader(filepath):\n",
    "    \"\"\"\n",
    "    open the file at the end of the path and yield LINES at random\n",
    "    \"\"\"\n",
    "    with filepath.open('r') as thefile:\n",
    "        lines = [l[:-1] for l in thefile.readlines() if len(l) > 1]\n",
    "\n",
    "    np.random.shuffle(lines)\n",
    "    \n",
    "    yield from lines\n"
   ]
  },
  {
   "cell_type": "code",
   "execution_count": 110,
   "metadata": {},
   "outputs": [
    {
     "name": "stdout",
     "output_type": "stream",
     "text": [
      "asdf \n",
      " sadf\n",
      "asdf   sadf\n"
     ]
    }
   ],
   "source": [
    "a = \"asdf \\n sadf\"\n",
    "print(a)\n",
    "print(strip_newlines(a))"
   ]
  },
  {
   "cell_type": "code",
   "execution_count": 104,
   "metadata": {},
   "outputs": [
    {
     "name": "stdout",
     "output_type": "stream",
     "text": [
      "asdf \n",
      " sadf\n"
     ]
    }
   ],
   "source": [
    "print(\"asdf \\n sadf\")"
   ]
  },
  {
   "cell_type": "code",
   "execution_count": 22,
   "metadata": {},
   "outputs": [
    {
     "name": "stdout",
     "output_type": "stream",
     "text": [
      "Hide your ignorance! Never let them know ;^)\n",
      "queer up!\n",
      "gee whiz, what a masterpiece this scrolling text sign is…\n",
      "Vulnerant omnes, Ultima necat\n",
      "Sic transit Gloria mundi\n",
      "Dum vivamus vivamus\n",
      "hell yeah i bought these LEDs from Alibaba!\n",
      "Nunc est bibendum\n",
      "Aspire to live in the approximate now… it's ok to think about things that are a little bit in the past or a little bit in the future :)\n",
      "holy fuck, i’m just speechless at the beauty of this fantastic sign…\n",
      "w a t c h   m e   w a g g l e   m y   b a b y   a r m s   ~~\\ :^) /~~  ~~\\ (^: /~~  ~~\\ :^) /~~\n",
      "this sign is really a goddamn hoot…\n",
      "Ultima forsan\n",
      "sick playa coat bro! you get that shit on Facebook Marketplace?\n",
      "Just look at this cool fuckin sign…\n",
      "man this fucking LED sign thing is the cat's meow…\n",
      "nice bike! you cop that shit at Walmart?\n",
      "Per aspera, ad astra\n",
      "Amazon thanks you for buying like 90% of the shit you brought to the burn from them :)\n",
      "Memento Mori\n",
      "Tempus fugit\n",
      "trapped in led scrolling text sign word writing factory, send he;p\n"
     ]
    }
   ],
   "source": [
    "name = base_directory / \"aphorisms.txt\"\n",
    "\n",
    "for l in random_line_reader(name):\n",
    "    print(l)"
   ]
  },
  {
   "cell_type": "code",
   "execution_count": 78,
   "metadata": {},
   "outputs": [],
   "source": [
    "def append_ellipsis(gen):\n",
    "    \"\"\"\n",
    "    generators on generators. add ellipsis\n",
    "    \"\"\"\n",
    "    for thing in gen:\n",
    "        yield \"{}...\".format(thing)\n",
    "\n",
    "def random_counter(high, count=100):\n",
    "    \"\"\"\n",
    "    yield random numbers\n",
    "    \"\"\"\n",
    "    numbers = np.random.permutation(high)[:count]\n",
    "    yield from append_ellipsis(numbers)\n",
    "    \n",
    "def reliable_counter(high):\n",
    "    \"\"\"\n",
    "    count straight from 0 to high\n",
    "    \"\"\"\n",
    "    numbers = np.arange(high)\n",
    "    yield from append_ellipsis(numbers)\n",
    "    \n",
    "def unreliable_counter(count, randomness=10):\n",
    "    \"\"\"\n",
    "    count up, down, around...\n",
    "    the higher `randomness` is, the more unreliable. make it smaller than `count`, preferably by\n",
    "    at least an order of magnitude.\n",
    "    i like this one.\n",
    "    \"\"\"\n",
    "    segment_length = count // randomness\n",
    "    numbers = np.arange(count)\n",
    "    for _ in range(randomness):\n",
    "        choice = np.random.randint(6)\n",
    "        start = np.random.randint(count - segment_length)\n",
    "        stop = start + segment_length\n",
    "        if choice == 0:\n",
    "            segment = np.arange(segment_length )+ np.random.randint(count)\n",
    "        elif choice == 1:\n",
    "            segment = numbers[stop:start:-1]\n",
    "        elif choice == 2:\n",
    "            segment = np.arange(segment_length)[::-1] + np.random.randint(count)\n",
    "        elif choice == 3:\n",
    "            segment = np.random.permutation(segment_length) + np.random.randint(count)\n",
    "        elif choice == 4:\n",
    "            segment = np.zeros(segment_length) + np.random.randint(count)\n",
    "        elif choice == 5:\n",
    "            segment = numbers[start:stop] + np.random.randint(count)\n",
    "        numbers[start: stop] = segment\n",
    "    yield from append_ellipsis(numbers)\n",
    "    "
   ]
  },
  {
   "cell_type": "code",
   "execution_count": 29,
   "metadata": {},
   "outputs": [
    {
     "name": "stdout",
     "output_type": "stream",
     "text": [
      "9...\n",
      "6...\n",
      "8...\n",
      "5...\n",
      "4...\n",
      "2...\n",
      "0...\n",
      "1...\n",
      "3...\n",
      "7...\n"
     ]
    }
   ],
   "source": [
    "for n in random_counter(10, 10):\n",
    "    print(n)"
   ]
  },
  {
   "cell_type": "code",
   "execution_count": 81,
   "metadata": {},
   "outputs": [
    {
     "name": "stdout",
     "output_type": "stream",
     "text": [
      "0...\n",
      "1...\n",
      "2...\n",
      "3...\n",
      "29...\n",
      "29...\n",
      "29...\n",
      "29...\n",
      "29...\n",
      "29...\n",
      "12...\n",
      "37...\n",
      "21...\n",
      "20...\n",
      "14...\n",
      "15...\n",
      "16...\n",
      "17...\n",
      "18...\n",
      "19...\n",
      "20...\n",
      "21...\n",
      "17...\n",
      "17...\n",
      "17...\n",
      "17...\n",
      "17...\n",
      "17...\n",
      "28...\n",
      "29...\n"
     ]
    }
   ],
   "source": [
    "for n in unreliable_counter(30, 5):\n",
    "    print(n)"
   ]
  },
  {
   "cell_type": "code",
   "execution_count": 111,
   "metadata": {},
   "outputs": [],
   "source": [
    "def sentences(filepath):\n",
    "    \"\"\"\n",
    "    i think for prose we should probably let the sign clear between sentences.\n",
    "    \"\"\"\n",
    "    with filepath.open('r') as thefile:\n",
    "        whole_thing = thefile.read()\n",
    "    whole_thing = [strip_newlines(l) + \".\" for l in whole_thing.split(\". \") if len(l) > 1]\n",
    "    yield from whole_thing\n",
    "    \n",
    "    \n",
    "def random_sentences(filepath):\n",
    "    \"\"\"\n",
    "    you guessed it\n",
    "    (this is great with sets of instructions)\n",
    "    \"\"\"\n",
    "    stuff = list(sentences(filepath))\n",
    "    \n",
    "    np.random.shuffle(stuff)\n",
    "    \n",
    "    yield from stuff\n",
    "    \n",
    "    \n",
    "def lines(filepath):\n",
    "    \"\"\"\n",
    "    for poetry, probably let the sign clear on newlines.\n",
    "    \"\"\"\n",
    "    with filepath.open('r') as thefile:\n",
    "        lines = [l[:-1] for l in thefile.readlines() if len(l) > 1]\n",
    "    yield from lines"
   ]
  },
  {
   "cell_type": "code",
   "execution_count": 88,
   "metadata": {},
   "outputs": [
    {
     "name": "stdout",
     "output_type": "stream",
     "text": [
      "It little profits that an idle king,\n",
      "By this still hearth, among these barren crags,\n",
      "Match'd with an aged wife, I mete and dole\n",
      "Unequal laws unto a savage race,\n",
      "That hoard, and sleep, and feed, and know not me.\n",
      "I cannot rest from travel: I will drink\n",
      "Life to the lees: All times I have enjoy'd\n",
      "Greatly, have suffer'd greatly, both with those\n",
      "That loved me, and alone, on shore, and when\n",
      "Thro' scudding drifts the rainy Hyades\n",
      "Vext the dim sea: I am become a name;\n",
      "For always roaming with a hungry heart\n",
      "Much have I seen and known; cities of men\n",
      "And manners, climates, councils, governments,\n",
      "Myself not least, but honour'd of them all;\n",
      "And drunk delight of battle with my peers,\n",
      "Far on the ringing plains of windy Troy.\n",
      "I am a part of all that I have met;\n",
      "Yet all experience is an arch wherethro'\n",
      "Gleams that untravell'd world whose margin fades\n",
      "For ever and forever when I move.\n",
      "How dull it is to pause, to make an end,\n",
      "To rust unburnish'd, not to shine in use!\n",
      "As tho' to breathe were life! Life piled on life\n",
      "Were all too little, and of one to me\n",
      "Little remains: but every hour is saved\n",
      "From that eternal silence, something more,\n",
      "A bringer of new things; and vile it were\n",
      "For some three suns to store and hoard myself,\n",
      "And this gray spirit yearning in desire\n",
      "To follow knowledge like a sinking star,\n",
      "Beyond the utmost bound of human thought.\n",
      "         This is my son, mine own Telemachus,\n",
      "To whom I leave the sceptre and the isle,—\n",
      "Well-loved of me, discerning to fulfil\n",
      "This labour, by slow prudence to make mild\n",
      "A rugged people, and thro' soft degrees\n",
      "Subdue them to the useful and the good.\n",
      "Most blameless is he, centred in the sphere\n",
      "Of common duties, decent not to fail\n",
      "In offices of tenderness, and pay\n",
      "Meet adoration to my household gods,\n",
      "When I am gone. He works his work, I mine.\n",
      "         There lies the port; the vessel puffs her sail:\n",
      "There gloom the dark, broad seas. My mariners,\n",
      "Souls that have toil'd, and wrought, and thought with me—\n",
      "That ever with a frolic welcome took\n",
      "The thunder and the sunshine, and opposed\n",
      "Free hearts, free foreheads—you and I are old;\n",
      "Old age hath yet his honour and his toil;\n",
      "Death closes all: but something ere the end,\n",
      "Some work of noble note, may yet be done,\n",
      "Not unbecoming men that strove with Gods.\n",
      "The lights begin to twinkle from the rocks:\n",
      "The long day wanes: the slow moon climbs: the deep\n",
      "Moans round with many voices. Come, my friends,\n",
      "'T is not too late to seek a newer world.\n",
      "Push off, and sitting well in order smite\n",
      "The sounding furrows; for my purpose holds\n",
      "To sail beyond the sunset, and the baths\n",
      "Of all the western stars, until I die.\n",
      "It may be that the gulfs will wash us down:\n",
      "It may be we shall touch the Happy Isles,\n",
      "And see the great Achilles, whom we knew.\n",
      "Tho' much is taken, much abides; and tho'\n",
      "We are not now that strength which in old days\n",
      "Moved earth and heaven, that which we are, we are;\n",
      "One equal temper of heroic hearts,\n",
      "Made weak by time and fate, but strong in will\n",
      "To strive, to seek, to find, and not to yield.\n"
     ]
    }
   ],
   "source": [
    "for l in lines(base_directory / \"ulysses.txt\"):\n",
    "    print(l)"
   ]
  },
  {
   "cell_type": "code",
   "execution_count": 114,
   "metadata": {
    "scrolled": true
   },
   "outputs": [
    {
     "name": "stdout",
     "output_type": "stream",
     "text": [
      "To be safe, you should bleed the system every day for a few days afterwards to ensure trapped air bubbles are worked out.            Bleeding Tips:    Once the system is full of coolant, loosen the bleeding screw slightly.\n",
      "Some mail order catalogs offer a \"Water Pump Helper\" Tool to get the ring out - it runs about $25.        11.\n",
      "Run the engine and continue adding water to the expansion tank until the system is full, bleeding it in the process.\n",
      "- This can be an exceptional pain.        B.\n",
      "If this area is greasy on your car, I recommend thoroughly cleaning and degreasing this area before you continue - your hoses will thank you.        OPTIONAL: Disconnect the upper radiator to engine hose at the radiator.\n",
      "Empty the bottles of radiator flush into the expansion tank, followed by water - keep filling the tank to just above the maximum mark - the water will be sucked back down as you run the engine.        16.\n",
      "Optionally, on the series 1 944s, you can install a lower temperature thermoswitch.\n",
      "As you can tell by looking, you do not have a lot of room to work.\n",
      "Place a drip pan under the radiator drain and one right in front of the crossmember.        5.\n",
      "By virtue of its location and how it is mounted, it requires special tools and/or some creative engineering to remove.        Naturally, once you start this procedure, inspect all of the hoses and clamps for wear, replace as necessary.        Warning/Disclaimer:You will be working on a hot engine, and draining hot fluids out of the car, there is the potential to burn yourself, be careful.\n",
      "Though this article was written based on a 944 NA, the same principles apply to a 924S/944S/S2/951/968.        Though this would seem like a simple procedure, removing the thermostat can be an exercise in frustration.\n",
      "Take a garden hose and hold it in the lower radiator outlet and turn on the water.\n",
      "You should see coolant bubbling from under the screw.\n",
      "If you have timed this right, the thermostat will still be open, allowing the engine block to drain.\n",
      "After the engine has cooled for a bit, drain the water and radiator flush.\n",
      "Time to flush the system.\n",
      "Do this by connecting the garden hose to the engine head to upper radiator hose.\n",
      "You can speed this up by disconnecting the radiator to water pump hose at the radiator - BE CAREFUL, the water will be HOT.        19.\n",
      "Allow the system to drain as much as possible.        7.\n",
      "Here in Florida, high outside temperatures combined with stop-and-go traffic can raise your engine temperature up to the 3/4 mark pretty quickly.\n",
      "Bleed the system completely.        21.\n",
      "On the passenger side of the car, remove the lower radiator to water pump hose, be prepared for yet another rush of warm coolant.\n",
      "However, this bolt can be difficult to get at, and in many cases, it has corroded and fused to the block.        8.\n",
      "Jack up the car and support it on jackstands, if you have one, remove the belly pan.        3.\n",
      "Optional: If the water pump/radiator hose connection has a bunch of crud on the outside, you can remove it with a rag and some of the radiator flush.\n",
      "This back-flushes the radiator and should remove any clogs you may have.        9.\n",
      "Let the car cool for about 10 minutes.        4.\n",
      "Disconnect the hose at the top of the motor, and filling the block with water, then pouring water down the hose and into the radiator, filling it up as much as possible.\n",
      "Once you have a steady stream of coolant oozing out of the bleeder screw, tighten it down, you are finished.    .\n",
      "If your car is equipped with power steering, any seepage or small leaks will have splashed power steering fluid on this hose, causing it to soften/swell.\n",
      "If you car is running a little hotter than you think it should, perhaps you need a new thermostat.\n",
      "Now it is time to remove the thermostat.\n",
      "Also, consult your local regulations regarding disposal of anti-freeze.        Tools Needed:        Large flat head screwdriver    Metric sockets    Snap Ring Pliers - get the ones that have a 90 degree bend with tips that are fairly thick OR Miniature round nose pliers - straight or 90 degree bend  OR Awl    New Thermostat (NAPA carries a 160, 180 and 190 degree version) It doesn't have to be a Porsche thermostat, just one that is 54 MM in diameter.    New seals, O-Rings and optionally, a Spacer    Radiator hoses (As needed)    2 bottles of radiator flush    New Coolant - Coolant that is approved for \"DEX-COOL\" works well.    Water Supply    Drip pans and a lot of rags (I used 3 large drip pans).    Gloves    Metal Polish (Optional)    Degreaser (Optional)    Procedure:        1.\n",
      "Use a brass wire brush if the crud is really caked on.        10.\n",
      "If you can't get at it easily, you can try inserting an awl in one of the holes and spinning the ring into a better position.\n",
      "Reconnect all hoses and start up the engine, and let it run for 10 - 15 minutes with the heat on, bleeding the air out of the system and adding additional water as necessary.\n",
      "After the hose is a uniform temperature squeeze it a few times, this creates a small backpressure wave through the system, helping to force trapped air bubbles loose.\n",
      "This ensures the block is full and reduces the amount of time you have to bleed the system.        17.\n",
      "As the system forces air out of the system, you can feel the head to radiator hose heat up.\n",
      "This, coupled with an old PS fluid leak, had softened the hose to the point where it was sticky.\n",
      "Keep an eye on the engine temperature, since you are running plain water, you cannot let the engine get too hot or the water will boil, causing all sorts of problems.        18.\n",
      "Once you get the ring out, pull the thermostat and any o-rings, seals, and spacing rings that may be in there, making note of which order they went in.\n",
      "Repeat steps 15 - 18 again, this time with coolant and water.\n",
      "My solution was to put a 160-degree thermostat in the car, and to flush out the cooling system thoroughly.\n",
      "If you backflushed the system, this hose should be disconnected already.\n",
      "Be prepared for yet another rush of coolant.        OPTIONAL: Now that the thermostat is out, you can take your garden hose and back flush the block.\n",
      "Remove the cap from the expansion tank - the coolant will really squirt out now.\n",
      "It is held in by a 55mm x 2mm snap ring.\n",
      "Since I was reusing the spacer and the snap ring, I cleaned and polished them as well.\n",
      "Reconnect the hose, clamping everything down tight and replace the radiator drain plug.        15.\n",
      "This ring is much easier to remove on the newer style water pumps, but can be an absolute nightmare on the older pumps (because it is in there deeper).\n",
      "Inspect this hose for excessive wear.\n",
      "Run the car and turn on the heat, once you start getting warm air, shut the car off.        2.\n",
      "After the system is drained and cooled, repeat steps 15 - 18 with plain water.        20.\n",
      "My hose actually had a flat spot from where it was resting against the inner fender.\n",
      "At this point, I wiped the thermostat housing down with a rag soaked in radiator flush, then polished it with metal polish, making sure to remove all traces of polish when I was done.\n",
      "Check for leaks over the next couple of days, topping off coolant as necessary.\n",
      "Find the holes in the ring and work it out the best you can, hopefully without damaging the ring or your water pump.\n",
      "Since the block no longer has coolant in it, you have two choices to fill the system.    A.\n",
      "There is a bolt to drain coolant out of the block located on the passenger side of the engine.\n",
      "In the classic Haynes style, installation of the thermostat is the reverse of removal.        14.\n",
      "This removed a lot of crud, making the new thermostat seat securely and made the snap ring easier to install.        13.\n",
      "Unscrew the radiator drain; be prepared for a rush of warm coolant.        6.\n",
      "Any loose debris will shoot out of the water pump.        12.\n"
     ]
    }
   ],
   "source": [
    "# lmao\n",
    "for l in random_sentences(base_directory / \"944_thermostat.txt\"):\n",
    "    print(l)"
   ]
  },
  {
   "cell_type": "code",
   "execution_count": 123,
   "metadata": {},
   "outputs": [],
   "source": [
    "random_lines = random_line_reader"
   ]
  },
  {
   "cell_type": "code",
   "execution_count": 129,
   "metadata": {},
   "outputs": [],
   "source": [
    "TEXT_PATH = Path(\"/home/graham/python/led_sign/text/\")\n",
    "POETRY = lambda x: x.stem.endswith(\"_poetry\")\n",
    "QUIPS = lambda x: x.stem.endswith(\"_quips\")\n",
    "LONG = lambda x: x.stem.endswith(\"_long\")\n",
    "PROSE = lambda x: x.stem.endswith(\"_prose\")\n",
    "INSTRUCTIONS = lambda x: x.stem.endswith(\"_instructions\")\n",
    "\n",
    "def random_filepath(long_ok=False):\n",
    "    \"\"\"\n",
    "    return a path to a file chosen at random.\n",
    "    \"\"\"\n",
    "    filepaths = list(TEXT_PATH.glob(\"*.txt\"))\n",
    "    this_path = np.random.choice(filepaths)\n",
    "    \n",
    "    if POETRY(this_path):\n",
    "        return lines(this_path)\n",
    "    elif QUIPS(this_path):\n",
    "        return random_lines(this_path)\n",
    "    elif PROSE(this_path):\n",
    "        return sentences(this_path)\n",
    "    elif INSTRUCTIONS(this_path):\n",
    "        if np.random.choice([True, False]):\n",
    "            return random_sentences(this_path)\n",
    "        else:\n",
    "            return sentences(this_path)\n",
    "    elif LONG(this_path):\n",
    "        if long_ok:\n",
    "            return sentences(this_path)\n",
    "        else:\n",
    "            return random_filepath(long_ok=False)\n",
    "    else:\n",
    "        raise IOError(\"i don't know what to do with {}! help!\".format(this_path.name))\n",
    "    "
   ]
  },
  {
   "cell_type": "code",
   "execution_count": 160,
   "metadata": {},
   "outputs": [
    {
     "name": "stdout",
     "output_type": "stream",
     "text": [
      "Pappy with the Khaki sweatband\n",
      "Bowed goat potbellied barnyard that only he noticed\n",
      "The old fart was smart\n",
      "The old gold cloth madonna\n",
      "Dancin' to the fiddle and saw\n",
      "He ran down behind the knoll\n",
      "And slipped on his wooden fishhead\n",
      "The mouth worked and snapped all the bees back to the bungalow\n",
      "Mama was flattenin' lard\n",
      "With her red enamel rolling pin\n",
      "When the fishhead broke the window\n",
      "Rubber eye erect and precisely detailed\n",
      "Airholes from which breath should come\n",
      "Is now closely fit\n",
      "With the chatter of the old fart inside\n",
      "An assortment of observations took place\n",
      "Mama licked her lips like a cat\n",
      "Pecked the ground like a rooster\n",
      "Pivoted like a duck\n",
      "Her stockings down caught dust and doughballs\n",
      "She cracked her mouth glaze, caught one eyelash\n",
      "Rubbed her hands on her gorgeous gingham\n",
      "Her hands grasped sticky metal intricate latchwork\n",
      "Open to the room, a smell cold mixed with bologna\n",
      "Rubber bands crumpled wax paper bonnets\n",
      "Fat goose legs and special jellies\n",
      "Ignited by the warmth of the room\n",
      "The old fart smelled this through his important breather holes\n",
      "Cleverly he dialed from within from the outside we observed\n",
      "That the nose of the wooden mask\n",
      "Where the holes had just been a moment ago\n",
      "Was now smooth amazingly blended camouflaged in\n",
      "With the very intricate rainbow trout replica\n",
      "The old fart inside was now breathing freely\n",
      "From his perfume bottle atomizer air bulb invention\n",
      "His excited eyes from within the dark interior glazed\n",
      "Watered in appreciation of his thoughtful preparation\n",
      "Oh man, so heavy\n"
     ]
    }
   ],
   "source": [
    "for l in random_filepath(long_ok=False):\n",
    "    print(l)"
   ]
  },
  {
   "cell_type": "code",
   "execution_count": 122,
   "metadata": {},
   "outputs": [
    {
     "name": "stdout",
     "output_type": "stream",
     "text": [
      "/home/graham/python/led_sign/text/bioluminati_quips.txt\n",
      "True\n",
      "False\n",
      "True\n",
      "False\n",
      "False\n",
      "False\n",
      "False\n",
      "True\n",
      "True\n",
      "False\n",
      "False\n",
      "False\n",
      "False\n",
      "True\n",
      "False\n",
      "True\n",
      "True\n",
      "False\n",
      "False\n",
      "False\n",
      "True\n",
      "True\n",
      "True\n",
      "True\n",
      "False\n",
      "False\n",
      "False\n",
      "True\n",
      "True\n",
      "True\n"
     ]
    }
   ],
   "source": [
    "x = list(base_directory.glob(\"*.txt\"))\n",
    "print(np.random.choice(x))\n",
    "for xx in x:\n",
    "    print(POETRY(xx))"
   ]
  },
  {
   "cell_type": "code",
   "execution_count": null,
   "metadata": {},
   "outputs": [],
   "source": []
  },
  {
   "cell_type": "code",
   "execution_count": null,
   "metadata": {},
   "outputs": [],
   "source": []
  }
 ],
 "metadata": {
  "kernelspec": {
   "display_name": "Python 3",
   "language": "python",
   "name": "python3"
  },
  "language_info": {
   "codemirror_mode": {
    "name": "ipython",
    "version": 3
   },
   "file_extension": ".py",
   "mimetype": "text/x-python",
   "name": "python",
   "nbconvert_exporter": "python",
   "pygments_lexer": "ipython3",
   "version": "3.5.2"
  }
 },
 "nbformat": 4,
 "nbformat_minor": 2
}
