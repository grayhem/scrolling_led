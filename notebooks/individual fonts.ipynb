{
 "cells": [
  {
   "cell_type": "code",
   "execution_count": 1,
   "metadata": {},
   "outputs": [],
   "source": [
    "%load_ext autoreload\n",
    "%autoreload 2"
   ]
  },
  {
   "cell_type": "code",
   "execution_count": 5,
   "metadata": {},
   "outputs": [],
   "source": [
    "from pathlib import Path\n",
    "\n",
    "from PIL import Image\n",
    "from PIL import ImageFont\n",
    "from PIL import ImageOps\n",
    "from PIL import ImageDraw\n",
    "\n",
    "import numpy as np"
   ]
  },
  {
   "cell_type": "code",
   "execution_count": null,
   "metadata": {},
   "outputs": [],
   "source": [
    "# using pillow to load and draw some fonts. so we can then convert those skinny character images into display\n",
    "# bytes for the sign"
   ]
  },
  {
   "cell_type": "code",
   "execution_count": 6,
   "metadata": {},
   "outputs": [],
   "source": [
    "base_directory = Path('/home/graham/python/led_sign/')\n",
    "font_directory = base_directory / \"fonts\""
   ]
  },
  {
   "cell_type": "code",
   "execution_count": 53,
   "metadata": {},
   "outputs": [],
   "source": [
    "# let's try and render some text to an image and save that image\n",
    "font_path = font_directory / \"celtic-bit.ttf\"\n",
    "font_path = font_directory / \"BMarmy.TTF\"\n",
    "font_path = font_directory / \"Super Mario World Text Box.ttf\"\n",
    "height = 7\n",
    "demo = \"well, what is it? BIOLUMINATI oh man WAEILFHASLDKNasdlkjasdlkfj\"\n",
    "text = \"ABCDEFGHIJKLMNOPQRSTUVWXYZabcdefghijklmnopqrstuvwxyz,./1234567890-=`~!@#$%^&*()_+[]\\{}|<>?:;\"\n",
    "width = 1000\n",
    "image = Image.new(mode='L', size=(width, height))\n",
    "font = ImageFont.truetype(font_path.as_posix(), size=7)\n",
    "drawer = ImageDraw.Draw(image)\n",
    "drawer.text((0, -2), text, fill=255, font=font)\n",
    "image.show()"
   ]
  },
  {
   "cell_type": "code",
   "execution_count": 27,
   "metadata": {},
   "outputs": [],
   "source": [
    "# yeah this is a little complicated. characters are all different sizes and vertical position.\n",
    "# ok let's render each character and inspect programmatically how many pixels high it is.\n",
    "# or actually the manual inspection isn't so bad.\n",
    "# super mario world is pretty well behaved. all fits within 7 characters.\n",
    "# let's go with that for now."
   ]
  },
  {
   "cell_type": "code",
   "execution_count": 62,
   "metadata": {},
   "outputs": [],
   "source": [
    "text = \"ABCDEFGHIJKLMNOPQRSTUVWXYZabcdefghijklmnopqrstuvwxyz,./1234567890-=`~!@#$%^&*()_+[]\\{}|<>?:; BIOLUMINATI bioluminati\"\n"
   ]
  },
  {
   "cell_type": "code",
   "execution_count": 95,
   "metadata": {},
   "outputs": [],
   "source": [
    "# A-OK, 100%\n",
    "font_path = font_directory / \"Super Mario World Text Box.ttf\"\n",
    "height = 7\n",
    "width = 850\n",
    "image = Image.new(mode='L', size=(width, height))\n",
    "font = ImageFont.truetype(font_path.as_posix(), size=7)\n",
    "drawer = ImageDraw.Draw(image)\n",
    "drawer.text((0, -2), text, fill=255, font=font)\n",
    "image.show()"
   ]
  },
  {
   "cell_type": "code",
   "execution_count": 68,
   "metadata": {},
   "outputs": [],
   "source": [
    "# this works but gets a little cut off\n",
    "# eh actually no\n",
    "font_path = font_directory / \"celtic-bit.ttf\"\n",
    "height = 8\n",
    "width = 1000\n",
    "image = Image.new(mode='L', size=(width, height))\n",
    "font = ImageFont.truetype(font_path.as_posix(), size=8)\n",
    "drawer = ImageDraw.Draw(image)\n",
    "drawer.text((0, 6), text, fill=255, font=font)\n",
    "image.show()"
   ]
  },
  {
   "cell_type": "code",
   "execution_count": 70,
   "metadata": {},
   "outputs": [],
   "source": [
    "# doesn't work either\n",
    "font_path = font_directory / \"celtic-bitty.ttf\"\n",
    "height = 8\n",
    "width = 1000\n",
    "image = Image.new(mode='L', size=(width, height))\n",
    "font = ImageFont.truetype(font_path.as_posix(), size=8)\n",
    "drawer = ImageDraw.Draw(image)\n",
    "drawer.text((0, 5), text, fill=255, font=font)\n",
    "image.show()"
   ]
  },
  {
   "cell_type": "code",
   "execution_count": 74,
   "metadata": {},
   "outputs": [],
   "source": [
    "# this is also fine. it's almost entirely 7 but some lowercase chars are 8\n",
    "font_path = font_directory / \"amiga4ever.ttf\"\n",
    "height = 8\n",
    "width = 1000\n",
    "image = Image.new(mode='L', size=(width, height))\n",
    "font = ImageFont.truetype(font_path.as_posix(), size=8)\n",
    "drawer = ImageDraw.Draw(image)\n",
    "drawer.text((0, 0), text, fill=255, font=font)\n",
    "image.show()"
   ]
  },
  {
   "cell_type": "code",
   "execution_count": 75,
   "metadata": {},
   "outputs": [],
   "source": [
    "# same\n",
    "font_path = font_directory / \"amiga4ever pro.ttf\"\n",
    "height = 8\n",
    "width = 1000\n",
    "image = Image.new(mode='L', size=(width, height))\n",
    "font = ImageFont.truetype(font_path.as_posix(), size=8)\n",
    "drawer = ImageDraw.Draw(image)\n",
    "drawer.text((0, 0), text, fill=255, font=font)\n",
    "image.show()"
   ]
  },
  {
   "cell_type": "code",
   "execution_count": 76,
   "metadata": {},
   "outputs": [],
   "source": [
    "# all the same\n",
    "font_path = font_directory / \"amiga4ever pro2.ttf\"\n",
    "height = 8\n",
    "width = 1000\n",
    "image = Image.new(mode='L', size=(width, height))\n",
    "font = ImageFont.truetype(font_path.as_posix(), size=8)\n",
    "drawer = ImageDraw.Draw(image)\n",
    "drawer.text((0, 0), text, fill=255, font=font)\n",
    "image.show()"
   ]
  },
  {
   "cell_type": "code",
   "execution_count": 86,
   "metadata": {},
   "outputs": [],
   "source": [
    "# seems to be entirely contained in 7 pixels\n",
    "font_path = font_directory / \"LVDCGO__.TTF\"\n",
    "height = 8\n",
    "width = 1000\n",
    "image = Image.new(mode='L', size=(width, height))\n",
    "font = ImageFont.truetype(font_path.as_posix(), size=7)\n",
    "drawer = ImageDraw.Draw(image)\n",
    "drawer.text((0, 0), text, fill=255, font=font)\n",
    "image.show()"
   ]
  },
  {
   "cell_type": "code",
   "execution_count": 84,
   "metadata": {},
   "outputs": [],
   "source": [
    "# this is like size 18 native\n",
    "font_path = font_directory / \"OXYGENE1.TTF\"\n",
    "height = 8\n",
    "width = 1000\n",
    "image = Image.new(mode='L', size=(width, height))\n",
    "font = ImageFont.truetype(font_path.as_posix(), size=8)\n",
    "drawer = ImageDraw.Draw(image)\n",
    "drawer.text((0, 0), text, fill=255, font=font)\n",
    "image.show()"
   ]
  },
  {
   "cell_type": "code",
   "execution_count": 85,
   "metadata": {},
   "outputs": [],
   "source": [
    "# this one spans 8 and has good set of symbols\n",
    "font_path = font_directory / \"RevMiniPixel.ttf\"\n",
    "height = 8\n",
    "width = 1000\n",
    "image = Image.new(mode='L', size=(width, height))\n",
    "font = ImageFont.truetype(font_path.as_posix(), size=8)\n",
    "drawer = ImageDraw.Draw(image)\n",
    "drawer.text((0, 0), text, fill=255, font=font)\n",
    "image.show()"
   ]
  },
  {
   "cell_type": "code",
   "execution_count": 87,
   "metadata": {},
   "outputs": [],
   "source": [
    "# spans 7, very legible\n",
    "font_path = font_directory / \"04B_03__.TTF\"\n",
    "height = 8\n",
    "width = 1000\n",
    "image = Image.new(mode='L', size=(width, height))\n",
    "font = ImageFont.truetype(font_path.as_posix(), size=8)\n",
    "drawer = ImageDraw.Draw(image)\n",
    "drawer.text((0, 0), text, fill=255, font=font)\n",
    "image.show()"
   ]
  },
  {
   "cell_type": "code",
   "execution_count": 94,
   "metadata": {},
   "outputs": [],
   "source": [
    "# i like this one. serif lower case\n",
    "font_path = font_directory / \"PrStart.ttf\"\n",
    "height = 8\n",
    "width = 1000\n",
    "image = Image.new(mode='L', size=(width, height))\n",
    "font = ImageFont.truetype(font_path.as_posix(), size=8)\n",
    "drawer = ImageDraw.Draw(image)\n",
    "drawer.text((0, 0), text, fill=255, font=font)\n",
    "# drawer.text((0, 0), \"a e s t h e t i c\", fill=255, font=font)\n",
    "\n",
    "image.show()"
   ]
  },
  {
   "cell_type": "code",
   "execution_count": 92,
   "metadata": {},
   "outputs": [],
   "source": [
    "# same as above but sans serif lower case\n",
    "font_path = font_directory / \"prstartk.ttf\"\n",
    "height = 8\n",
    "width = 1000\n",
    "image = Image.new(mode='L', size=(width, height))\n",
    "font = ImageFont.truetype(font_path.as_posix(), size=8)\n",
    "drawer = ImageDraw.Draw(image)\n",
    "# drawer.text((0, 0), \"a e s t h e t i c\", fill=255, font=font)\n",
    "drawer.text((0, 0), text, fill=255, font=font)\n",
    "image.show()"
   ]
  },
  {
   "cell_type": "code",
   "execution_count": null,
   "metadata": {},
   "outputs": [],
   "source": []
  },
  {
   "cell_type": "code",
   "execution_count": null,
   "metadata": {},
   "outputs": [],
   "source": []
  },
  {
   "cell_type": "code",
   "execution_count": null,
   "metadata": {},
   "outputs": [],
   "source": []
  },
  {
   "cell_type": "code",
   "execution_count": null,
   "metadata": {},
   "outputs": [],
   "source": []
  },
  {
   "cell_type": "code",
   "execution_count": null,
   "metadata": {},
   "outputs": [],
   "source": []
  },
  {
   "cell_type": "code",
   "execution_count": null,
   "metadata": {},
   "outputs": [],
   "source": []
  },
  {
   "cell_type": "code",
   "execution_count": null,
   "metadata": {},
   "outputs": [],
   "source": []
  }
 ],
 "metadata": {
  "kernelspec": {
   "display_name": "Python 3",
   "language": "python",
   "name": "python3"
  },
  "language_info": {
   "codemirror_mode": {
    "name": "ipython",
    "version": 3
   },
   "file_extension": ".py",
   "mimetype": "text/x-python",
   "name": "python",
   "nbconvert_exporter": "python",
   "pygments_lexer": "ipython3",
   "version": "3.5.2"
  }
 },
 "nbformat": 4,
 "nbformat_minor": 2
}
