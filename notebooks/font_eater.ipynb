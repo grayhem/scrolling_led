{
 "cells": [
  {
   "cell_type": "code",
   "execution_count": 1,
   "metadata": {},
   "outputs": [],
   "source": [
    "%load_ext autoreload\n",
    "%autoreload 2"
   ]
  },
  {
   "cell_type": "code",
   "execution_count": 13,
   "metadata": {},
   "outputs": [],
   "source": [
    "from pathlib import Path\n",
    "\n",
    "from PIL import Image\n",
    "from PIL import ImageFont\n",
    "from PIL import ImageOps\n",
    "from PIL import ImageDraw\n",
    "\n",
    "import numpy as np\n",
    "\n",
    "from led_sign import font_eater"
   ]
  },
  {
   "cell_type": "code",
   "execution_count": null,
   "metadata": {},
   "outputs": [],
   "source": [
    "# https://www.youtube.com/watch?v=TcSJpRsZAjU\n",
    "# in other words let's take a pil image and throw it into a numpy array. \n",
    "# then we can make a function to do that for a character and then turn the occupied columns into a sequence of\n",
    "# display bytes."
   ]
  },
  {
   "cell_type": "code",
   "execution_count": 3,
   "metadata": {},
   "outputs": [],
   "source": [
    "base_directory = Path('/home/graham/python/led_sign/')\n",
    "font_directory = base_directory / \"fonts\""
   ]
  },
  {
   "cell_type": "code",
   "execution_count": 39,
   "metadata": {},
   "outputs": [],
   "source": [
    "font_path = font_directory / \"PrStart.ttf\"\n",
    "height = 8\n",
    "width = 8\n",
    "image = Image.new(mode='L', size=(width, height))\n",
    "font = ImageFont.truetype(font_path.as_posix(), size=8)\n",
    "drawer = ImageDraw.Draw(image)\n",
    "drawer.text((0, 0), \"H\", fill=255, font=font)\n",
    "# image.show()\n",
    "stuff = image.tobytes()"
   ]
  },
  {
   "cell_type": "code",
   "execution_count": 7,
   "metadata": {},
   "outputs": [
    {
     "data": {
      "text/plain": [
       "49"
      ]
     },
     "execution_count": 7,
     "metadata": {},
     "output_type": "execute_result"
    }
   ],
   "source": [
    "# hm. ok.\n",
    "len(stuff)"
   ]
  },
  {
   "cell_type": "code",
   "execution_count": 40,
   "metadata": {},
   "outputs": [],
   "source": [
    "thing = np.frombuffer(stuff, dtype=np.uint8)"
   ]
  },
  {
   "cell_type": "code",
   "execution_count": 13,
   "metadata": {},
   "outputs": [],
   "source": [
    "thing = thing > 10"
   ]
  },
  {
   "cell_type": "code",
   "execution_count": 41,
   "metadata": {},
   "outputs": [
    {
     "data": {
      "text/plain": [
       "array([[255, 255,   0,   0,   0, 255, 255,   0],\n",
       "       [255, 255,   0,   0,   0, 255, 255,   0],\n",
       "       [255, 255,   0,   0,   0, 255, 255,   0],\n",
       "       [255, 255, 255, 255, 255, 255, 255,   0],\n",
       "       [255, 255,   0,   0,   0, 255, 255,   0],\n",
       "       [255, 255,   0,   0,   0, 255, 255,   0],\n",
       "       [255, 255,   0,   0,   0, 255, 255,   0],\n",
       "       [  0,   0,   0,   0,   0,   0,   0,   0]], dtype=uint8)"
      ]
     },
     "execution_count": 41,
     "metadata": {},
     "output_type": "execute_result"
    }
   ],
   "source": [
    "# now we're getting somewhere\n",
    "thing.reshape(8, 8)"
   ]
  },
  {
   "cell_type": "code",
   "execution_count": 42,
   "metadata": {},
   "outputs": [
    {
     "data": {
      "text/plain": [
       "b'\\xff\\xff\\x00\\x00\\x00\\xff\\xff\\x00\\xff\\xff\\x00\\x00\\x00\\xff\\xff\\x00\\xff\\xff\\x00\\x00\\x00\\xff\\xff\\x00\\xff\\xff\\xff\\xff\\xff\\xff\\xff\\x00\\xff\\xff\\x00\\x00\\x00\\xff\\xff\\x00\\xff\\xff\\x00\\x00\\x00\\xff\\xff\\x00\\xff\\xff\\x00\\x00\\x00\\xff\\xff\\x00\\x00\\x00\\x00\\x00\\x00\\x00\\x00\\x00'"
      ]
     },
     "execution_count": 42,
     "metadata": {},
     "output_type": "execute_result"
    }
   ],
   "source": [
    "stuff"
   ]
  },
  {
   "cell_type": "code",
   "execution_count": 49,
   "metadata": {},
   "outputs": [
    {
     "data": {
      "text/plain": [
       "'0xa'"
      ]
     },
     "execution_count": 49,
     "metadata": {},
     "output_type": "execute_result"
    }
   ],
   "source": [
    "hex(10)"
   ]
  },
  {
   "cell_type": "code",
   "execution_count": 53,
   "metadata": {},
   "outputs": [
    {
     "data": {
      "text/plain": [
       "b'\\x00\\x00\\x00\\x00'"
      ]
     },
     "execution_count": 53,
     "metadata": {},
     "output_type": "execute_result"
    }
   ],
   "source": [
    "bytes(4)"
   ]
  },
  {
   "cell_type": "code",
   "execution_count": 59,
   "metadata": {},
   "outputs": [
    {
     "data": {
      "text/plain": [
       "4"
      ]
     },
     "execution_count": 59,
     "metadata": {},
     "output_type": "execute_result"
    }
   ],
   "source": [
    "int(bin(4), 2)"
   ]
  },
  {
   "cell_type": "code",
   "execution_count": 63,
   "metadata": {},
   "outputs": [
    {
     "data": {
      "text/plain": [
       "'0b100'"
      ]
     },
     "execution_count": 63,
     "metadata": {},
     "output_type": "execute_result"
    }
   ],
   "source": [
    "bin(4)"
   ]
  },
  {
   "cell_type": "code",
   "execution_count": 62,
   "metadata": {},
   "outputs": [
    {
     "data": {
      "text/plain": [
       "'0x4'"
      ]
     },
     "execution_count": 62,
     "metadata": {},
     "output_type": "execute_result"
    }
   ],
   "source": [
    "hex(4)"
   ]
  },
  {
   "cell_type": "code",
   "execution_count": 66,
   "metadata": {},
   "outputs": [
    {
     "data": {
      "text/plain": [
       "'0xfe'"
      ]
     },
     "execution_count": 66,
     "metadata": {},
     "output_type": "execute_result"
    }
   ],
   "source": [
    "# i'll be your huckleberry\n",
    "hex(int('0b11111110', 2))"
   ]
  },
  {
   "cell_type": "code",
   "execution_count": 72,
   "metadata": {},
   "outputs": [
    {
     "data": {
      "text/plain": [
       "array([[ True,  True,  True,  True,  True,  True,  True, False],\n",
       "       [ True,  True,  True,  True,  True,  True,  True, False],\n",
       "       [False, False, False,  True, False, False, False, False],\n",
       "       [False, False, False,  True, False, False, False, False],\n",
       "       [False, False, False,  True, False, False, False, False],\n",
       "       [ True,  True,  True,  True,  True,  True,  True, False],\n",
       "       [ True,  True,  True,  True,  True,  True,  True, False],\n",
       "       [False, False, False, False, False, False, False, False]])"
      ]
     },
     "execution_count": 72,
     "metadata": {},
     "output_type": "execute_result"
    }
   ],
   "source": [
    "where = thing.reshape(8, 8).T == 255\n",
    "where"
   ]
  },
  {
   "cell_type": "code",
   "execution_count": 78,
   "metadata": {},
   "outputs": [
    {
     "name": "stdout",
     "output_type": "stream",
     "text": [
      "['0xfe', '0xfe', '0x10', '0x10', '0x10', '0xfe', '0xfe', '0x0']\n"
     ]
    }
   ],
   "source": [
    "# boom\n",
    "here = np.where(where, *'10')\n",
    "display_strings = ['0b' + \"\".join(h) for h in here]\n",
    "display_bytes = [hex(int(d, 2)) for d in display_strings]\n",
    "print(display_bytes)"
   ]
  },
  {
   "cell_type": "code",
   "execution_count": 4,
   "metadata": {},
   "outputs": [],
   "source": [
    "# does all this work with '1' mode images?\n",
    "# eh it makes things weird. numpy will end up interpreting rows as individual bytes. we could make use of that\n",
    "# and rotate the image to make the display bytes directly... seems fiddly. i know the roundabout way i did last\n",
    "# night works so let's use that instead.\n",
    "font_path = font_directory / \"PrStart.ttf\"\n",
    "height = 8\n",
    "width = 8\n",
    "image = Image.new(mode='1', size=(width, height))\n",
    "font = ImageFont.truetype(font_path.as_posix(), size=8)\n",
    "drawer = ImageDraw.Draw(image)\n",
    "drawer.text((0, 0), \"H\", fill=255, font=font)\n",
    "# image.show()\n",
    "stuff = image.tobytes()"
   ]
  },
  {
   "cell_type": "code",
   "execution_count": 12,
   "metadata": {},
   "outputs": [
    {
     "data": {
      "text/plain": [
       "['abdsdfsdfasdf']"
      ]
     },
     "execution_count": 12,
     "metadata": {},
     "output_type": "execute_result"
    }
   ],
   "source": [
    "x = [\"abdsdf\"\n",
    "    \"sdfasdf\"]\n",
    "x"
   ]
  },
  {
   "cell_type": "code",
   "execution_count": 15,
   "metadata": {},
   "outputs": [
    {
     "data": {
      "text/plain": [
       "'ABCDEFGHIJKLMNOPQRSTUVWXYZabcdefghijklmnopqrstuvwxyz`1234567890-=~!@#$%^&*()_+[];\\':\",./ <>?'"
      ]
     },
     "execution_count": 15,
     "metadata": {},
     "output_type": "execute_result"
    }
   ],
   "source": [
    "font_eater.CHARACTER_SEQUENCE"
   ]
  },
  {
   "cell_type": "code",
   "execution_count": 37,
   "metadata": {},
   "outputs": [
    {
     "name": "stdout",
     "output_type": "stream",
     "text": [
      "/home/graham/python/led_sign/fonts/PrStart.ttf\n",
      "728\n",
      "\n",
      "/home/graham/python/led_sign/fonts/prstartk.ttf\n",
      "728\n",
      "\n",
      "/home/graham/python/led_sign/fonts/amiga4ever.ttf\n",
      "728\n",
      "\n"
     ]
    }
   ],
   "source": [
    "# oh shit 04b_03 and rev_mini_pixel aren't monospace. nope.\n",
    "# super mario is lacking a lot of symbols\n",
    "# lvdcgo is not monospace\n",
    "\n",
    "\n",
    "filenames = [\n",
    "    \"/home/graham/python/led_sign/fonts/PrStart.ttf\",\n",
    "#     \"/home/graham/python/led_sign/fonts/LVDCGO__.TTF\",\n",
    "#     \"/home/graham/python/led_sign/fonts/Super Mario World Text Box.ttf\",\n",
    "    \"/home/graham/python/led_sign/fonts/prstartk.ttf\",\n",
    "    \"/home/graham/python/led_sign/fonts/amiga4ever.ttf\"\n",
    "]\n",
    "output_names = [\n",
    "    \"pr_start.pkl\",\n",
    "#     \"lvdcgo.pkl\",\n",
    "#     \"super_mario.pkl\",\n",
    "    \"pr_start_k.pkl\",\n",
    "    \"amiga_4_ever.pkl\"\n",
    "]\n",
    "widths = [\n",
    "    8,\n",
    "#     10,\n",
    "#     8,\n",
    "    8,\n",
    "    8\n",
    "]\n",
    "for this_filename, this_output_name, this_width in zip(filenames, output_names, widths):\n",
    "    print(this_filename)\n",
    "    font_eater.make_font_dictionary(this_filename, this_output_name, width=this_width)\n",
    "    input()"
   ]
  },
  {
   "cell_type": "code",
   "execution_count": null,
   "metadata": {},
   "outputs": [],
   "source": []
  },
  {
   "cell_type": "code",
   "execution_count": null,
   "metadata": {},
   "outputs": [],
   "source": []
  },
  {
   "cell_type": "code",
   "execution_count": null,
   "metadata": {},
   "outputs": [],
   "source": []
  },
  {
   "cell_type": "code",
   "execution_count": null,
   "metadata": {},
   "outputs": [],
   "source": []
  }
 ],
 "metadata": {
  "kernelspec": {
   "display_name": "Python 3",
   "language": "python",
   "name": "python3"
  },
  "language_info": {
   "codemirror_mode": {
    "name": "ipython",
    "version": 3
   },
   "file_extension": ".py",
   "mimetype": "text/x-python",
   "name": "python",
   "nbconvert_exporter": "python",
   "pygments_lexer": "ipython3",
   "version": "3.5.2"
  }
 },
 "nbformat": 4,
 "nbformat_minor": 2
}
