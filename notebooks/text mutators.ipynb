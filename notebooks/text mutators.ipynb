{
 "cells": [
  {
   "cell_type": "code",
   "execution_count": 1,
   "metadata": {},
   "outputs": [],
   "source": [
    "%load_ext autoreload\n",
    "%autoreload 2"
   ]
  },
  {
   "cell_type": "code",
   "execution_count": 2,
   "metadata": {},
   "outputs": [],
   "source": [
    "import time\n",
    "\n",
    "import numpy as np\n",
    "\n",
    "from led_sign import colors\n",
    "from led_sign import text"
   ]
  },
  {
   "cell_type": "code",
   "execution_count": null,
   "metadata": {},
   "outputs": [],
   "source": [
    "# the aim is to randomize or distort text we send to the slave."
   ]
  },
  {
   "cell_type": "code",
   "execution_count": 3,
   "metadata": {},
   "outputs": [],
   "source": [
    "def thing(count):\n",
    "    a = range(count)\n",
    "    yield from a"
   ]
  },
  {
   "cell_type": "code",
   "execution_count": 5,
   "metadata": {},
   "outputs": [
    {
     "name": "stdout",
     "output_type": "stream",
     "text": [
      "0\n",
      "1\n",
      "2\n",
      "3\n",
      "4\n",
      "5\n",
      "6\n",
      "7\n",
      "8\n",
      "9\n"
     ]
    }
   ],
   "source": [
    "for a in thing(10):\n",
    "    print(a)"
   ]
  },
  {
   "cell_type": "code",
   "execution_count": 55,
   "metadata": {},
   "outputs": [],
   "source": [
    "def littering_and(iterable, max_repeats=3, probability=0.05, max_sequence_length=5):\n",
    "    \"\"\"\n",
    "    littering and, littering and, littering and, littering and,\n",
    "    \"\"\"\n",
    "\n",
    "    \n",
    "    for thing in iterable:\n",
    "        if np.random.random() < probability:\n",
    "            # read the next few and put into memory\n",
    "            memory = [thing]\n",
    "            repeats = np.random.randint(1, max_repeats)\n",
    "            sequence_length = np.random.randint(1, max_sequence_length)\n",
    "            try:\n",
    "                for _ in range(sequence_length):\n",
    "                    memory.append(iterable.__next__())\n",
    "            except StopIteration:\n",
    "                pass\n",
    "            memory = memory * repeats\n",
    "            for this in memory:\n",
    "                yield this\n",
    "        else:\n",
    "            yield thing"
   ]
  },
  {
   "cell_type": "code",
   "execution_count": 59,
   "metadata": {},
   "outputs": [
    {
     "name": "stdout",
     "output_type": "stream",
     "text": [
      "0\n",
      "1\n",
      "2\n",
      "3\n",
      "4\n",
      "5\n",
      "6\n",
      "7\n",
      "8\n",
      "9\n",
      "10\n",
      "11\n",
      "12\n",
      "13\n",
      "9\n",
      "10\n",
      "11\n",
      "12\n",
      "13\n",
      "14\n",
      "15\n",
      "16\n",
      "17\n",
      "18\n",
      "19\n"
     ]
    }
   ],
   "source": [
    "for n in littering_and(iter(range(20)), probability=0.2):\n",
    "    print(n)"
   ]
  },
  {
   "cell_type": "code",
   "execution_count": 75,
   "metadata": {},
   "outputs": [],
   "source": [
    "def reflect(iterable, max_sequence_length=5, probability=0.05):\n",
    "    \"\"\"\n",
    "    abcdedcbabcdefghijk\n",
    "    \"\"\"\n",
    "\n",
    "    for thing in iterable:\n",
    "        if np.random.random() < probability:\n",
    "            memory = [thing]\n",
    "            sequence_length = np.random.randint(1, max_sequence_length)\n",
    "            try:\n",
    "                for _ in range(sequence_length):\n",
    "                    memory.append(iterable.__next__())\n",
    "            except StopIteration:\n",
    "                pass\n",
    "            # etc etc\n",
    "            memory = memory + memory[-2::-1] + memory[1:]\n",
    "            yield from memory\n",
    "        else:\n",
    "            yield thing\n",
    "                    \n",
    "            \n",
    "            \n",
    "def backwards(iterable, max_sequence_length=5, probability=0.05):\n",
    "    \"\"\"\n",
    "    abcdkjihgfe\n",
    "    \"\"\""
   ]
  },
  {
   "cell_type": "code",
   "execution_count": 74,
   "metadata": {},
   "outputs": [
    {
     "name": "stdout",
     "output_type": "stream",
     "text": [
      "[0, 1, 2, 3, 4, 5, 6, 7, 8, 9]\n",
      "[8, 7, 6, 5, 4, 3, 2, 1, 0]\n"
     ]
    }
   ],
   "source": [
    "a = list(range(10))\n",
    "print(a)\n",
    "print(a[-2::-1])"
   ]
  },
  {
   "cell_type": "code",
   "execution_count": 76,
   "metadata": {},
   "outputs": [
    {
     "name": "stdout",
     "output_type": "stream",
     "text": [
      "0\n",
      "1\n",
      "2\n",
      "3\n",
      "2\n",
      "1\n",
      "2\n",
      "3\n",
      "4\n",
      "5\n",
      "6\n",
      "7\n",
      "8\n",
      "9\n",
      "10\n",
      "9\n",
      "8\n",
      "9\n",
      "10\n",
      "11\n",
      "12\n",
      "13\n",
      "14\n",
      "15\n",
      "16\n",
      "15\n",
      "14\n",
      "15\n",
      "16\n",
      "17\n",
      "18\n",
      "19\n",
      "20\n",
      "21\n",
      "22\n",
      "23\n",
      "24\n",
      "23\n",
      "24\n",
      "25\n",
      "26\n",
      "25\n",
      "26\n",
      "27\n",
      "28\n",
      "29\n",
      "28\n",
      "29\n"
     ]
    }
   ],
   "source": [
    "for n in reflect(iter(range(30)), probability=0.3):\n",
    "    print(n)"
   ]
  },
  {
   "cell_type": "code",
   "execution_count": 105,
   "metadata": {},
   "outputs": [],
   "source": [
    "words = text.random_text()"
   ]
  },
  {
   "cell_type": "code",
   "execution_count": 108,
   "metadata": {},
   "outputs": [
    {
     "name": "stdout",
     "output_type": "stream",
     "text": [
      "He ruleth over 66 Legions of Infernal Spirits.\n"
     ]
    }
   ],
   "source": [
    "line = words.__next__()\n",
    "print(line)"
   ]
  },
  {
   "cell_type": "code",
   "execution_count": 104,
   "metadata": {},
   "outputs": [
    {
     "name": "stdout",
     "output_type": "stream",
     "text": [
      "bioluminati! did you know bike is short for bicheal?\n"
     ]
    }
   ],
   "source": [
    "print(\n",
    "    *list(\n",
    "        littering_and(\n",
    "            iter(line.split(\" \")),\n",
    "            probability=0.3)))"
   ]
  },
  {
   "cell_type": "code",
   "execution_count": 109,
   "metadata": {},
   "outputs": [
    {
     "name": "stdout",
     "output_type": "stream",
     "text": [
      "He ruleth He ruleth over 66 Legions of Legions 66 Legions of Infernal Spirits.\n"
     ]
    }
   ],
   "source": [
    "print(\n",
    "    *list(\n",
    "        reflect(\n",
    "            iter(line.split(\" \")),\n",
    "            probability=0.3)))"
   ]
  },
  {
   "cell_type": "code",
   "execution_count": null,
   "metadata": {},
   "outputs": [],
   "source": []
  }
 ],
 "metadata": {
  "kernelspec": {
   "display_name": "Python 3",
   "language": "python",
   "name": "python3"
  },
  "language_info": {
   "codemirror_mode": {
    "name": "ipython",
    "version": 3
   },
   "file_extension": ".py",
   "mimetype": "text/x-python",
   "name": "python",
   "nbconvert_exporter": "python",
   "pygments_lexer": "ipython3",
   "version": "3.5.2"
  }
 },
 "nbformat": 4,
 "nbformat_minor": 2
}
